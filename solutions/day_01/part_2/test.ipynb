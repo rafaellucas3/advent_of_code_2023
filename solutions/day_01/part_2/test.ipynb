{
 "cells": [
  {
   "cell_type": "code",
   "execution_count": 50,
   "metadata": {},
   "outputs": [],
   "source": [
    "search_dict = {\n",
    "        \"one\": \"1\",\n",
    "        \"two\": \"2\",\n",
    "        \"three\": \"3\",\n",
    "        \"four\": \"4\",\n",
    "        \"five\": \"5\",\n",
    "        \"six\": \"6\",\n",
    "        \"seven\": \"7\",\n",
    "        \"eight\": \"8\",\n",
    "        \"nine\": \"9\",\n",
    "        \"zero\": \"0\",\n",
    "        \"1\": \"1\",\n",
    "        \"2\": \"2\",\n",
    "        \"3\": \"3\",\n",
    "        \"4\": \"4\",\n",
    "        \"5\": \"5\",\n",
    "        \"6\": \"6\",\n",
    "        \"7\": \"7\",\n",
    "        \"8\": \"8\",\n",
    "        \"9\": \"9\"\n",
    "    }\n",
    "\n",
    "string = \"cdtlrnine2onexfspkgltjrbone8\"\n"
   ]
  },
  {
   "cell_type": "code",
   "execution_count": 63,
   "metadata": {},
   "outputs": [],
   "source": [
    "search_result = []\n",
    "for key, value in search_dict.items():\n",
    "    string_copy = string\n",
    "    cut_char = 0\n",
    "    index = string_copy.find(key)\n",
    "    while index != -1:\n",
    "        search_result.append((cut_char + index, value))\n",
    "        cut_char += len(string_copy[0:index+len(key)])\n",
    "        string_copy = string_copy[index+len(key):len(string_copy)]\n",
    "        index = string_copy.find(key)"
   ]
  },
  {
   "cell_type": "code",
   "execution_count": 66,
   "metadata": {},
   "outputs": [
    {
     "data": {
      "text/plain": [
       "[(5, '9'), (9, '2'), (10, '1'), (24, '1'), (27, '8')]"
      ]
     },
     "execution_count": 66,
     "metadata": {},
     "output_type": "execute_result"
    }
   ],
   "source": [
    "search_result.sort(key=lambda x: x[0])\n",
    "search_result"
   ]
  },
  {
   "cell_type": "code",
   "execution_count": null,
   "metadata": {},
   "outputs": [],
   "source": []
  }
 ],
 "metadata": {
  "kernelspec": {
   "display_name": "llms",
   "language": "python",
   "name": "python3"
  },
  "language_info": {
   "codemirror_mode": {
    "name": "ipython",
    "version": 3
   },
   "file_extension": ".py",
   "mimetype": "text/x-python",
   "name": "python",
   "nbconvert_exporter": "python",
   "pygments_lexer": "ipython3",
   "version": "3.11.5"
  }
 },
 "nbformat": 4,
 "nbformat_minor": 2
}
